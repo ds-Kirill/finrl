{
 "cells": [
  {
   "cell_type": "code",
   "execution_count": 41,
   "id": "0ebad4ed-5fdb-407c-a629-c712ec3fb980",
   "metadata": {},
   "outputs": [],
   "source": [
    "from pybit.unified_trading import HTTP\n",
    "\n",
    "session = HTTP(\n",
    "    testnet=False,\n",
    "    api_key=\"\",\n",
    "    api_secret=\"\",\n",
    ")\n"
   ]
  },
  {
   "cell_type": "code",
   "execution_count": 88,
   "id": "df4737d6-e0b4-4b2b-b79e-43bc00b75fc4",
   "metadata": {},
   "outputs": [],
   "source": [
    "pos = session.get_positions(\n",
    "    category=\"linear\",\n",
    "    symbol=\"ADAUSDT\",\n",
    ")"
   ]
  },
  {
   "cell_type": "code",
   "execution_count": 78,
   "id": "fd873135-9143-4d49-903c-8a813075ee68",
   "metadata": {},
   "outputs": [],
   "source": [
    "pos = session.get_positions(\n",
    "    category=\"linear\",\n",
    "    symbol=\"BTCUSDT\",\n",
    ")"
   ]
  },
  {
   "cell_type": "code",
   "execution_count": 89,
   "id": "a3d69c57-1793-4fab-baae-0cd60595e1bf",
   "metadata": {},
   "outputs": [
    {
     "data": {
      "text/plain": [
       "('Buy', 177121193766)"
      ]
     },
     "execution_count": 89,
     "metadata": {},
     "output_type": "execute_result"
    }
   ],
   "source": [
    "pos['result']['list'][0]['side'], pos['result']['list'][0]['seq']"
   ]
  },
  {
   "cell_type": "code",
   "execution_count": 90,
   "id": "ed7df61a-527c-4274-9eaa-808baba3df98",
   "metadata": {},
   "outputs": [
    {
     "data": {
      "text/plain": [
       "(False, False)"
      ]
     },
     "execution_count": 90,
     "metadata": {},
     "output_type": "execute_result"
    }
   ],
   "source": [
    "pos['result']['list'][0]['seq'] == -1, len(pos['result']['list'][0]['side']) == 0"
   ]
  },
  {
   "cell_type": "code",
   "execution_count": 91,
   "id": "14aa64b8-e46b-44f8-80e1-743efc73b4e0",
   "metadata": {},
   "outputs": [
    {
     "data": {
      "text/plain": [
       "{'retCode': 0,\n",
       " 'retMsg': 'OK',\n",
       " 'result': {'nextPageCursor': 'ADAUSDT%2C1733081032098%2C0',\n",
       "  'category': 'linear',\n",
       "  'list': [{'symbol': 'ADAUSDT',\n",
       "    'leverage': '10',\n",
       "    'autoAddMargin': 0,\n",
       "    'avgPrice': '1.0821',\n",
       "    'liqPrice': '',\n",
       "    'riskLimitValue': '200000',\n",
       "    'takeProfit': '1.091',\n",
       "    'positionValue': '12.9852',\n",
       "    'isReduceOnly': False,\n",
       "    'tpslMode': 'Full',\n",
       "    'riskId': 116,\n",
       "    'trailingStop': '0',\n",
       "    'unrealisedPnl': '0.0324',\n",
       "    'markPrice': '1.0848',\n",
       "    'adlRankIndicator': 2,\n",
       "    'cumRealisedPnl': '-0.0129852',\n",
       "    'positionMM': '0.10907568',\n",
       "    'createdTime': '1733081032095',\n",
       "    'positionIdx': 0,\n",
       "    'positionIM': '1.31020668',\n",
       "    'seq': 177121193766,\n",
       "    'updatedTime': '1733081032098',\n",
       "    'side': 'Buy',\n",
       "    'bustPrice': '',\n",
       "    'positionBalance': '0',\n",
       "    'leverageSysUpdatedTime': '',\n",
       "    'curRealisedPnl': '-0.0129852',\n",
       "    'size': '12',\n",
       "    'positionStatus': 'Normal',\n",
       "    'mmrSysUpdatedTime': '',\n",
       "    'stopLoss': '1.065',\n",
       "    'tradeMode': 0,\n",
       "    'sessionAvgPrice': ''}]},\n",
       " 'retExtInfo': {},\n",
       " 'time': 1733081403903}"
      ]
     },
     "execution_count": 91,
     "metadata": {},
     "output_type": "execute_result"
    }
   ],
   "source": [
    "pos"
   ]
  },
  {
   "cell_type": "code",
   "execution_count": 66,
   "id": "44c7a11e-16fb-42d5-9d69-1c0fceb597b6",
   "metadata": {},
   "outputs": [],
   "source": [
    "r = session.get_wallet_balance(accountType=\"UNIFIED\")"
   ]
  },
  {
   "cell_type": "code",
   "execution_count": 67,
   "id": "e8c1a445-50d7-4d6d-b0e3-865b1d0a33be",
   "metadata": {
    "scrolled": true
   },
   "outputs": [
    {
     "data": {
      "text/plain": [
       "{'retCode': 0,\n",
       " 'retMsg': 'OK',\n",
       " 'result': {'list': [{'totalEquity': '989.89192356',\n",
       "    'accountIMRate': '0',\n",
       "    'totalMarginBalance': '969.94116599',\n",
       "    'totalInitialMargin': '0',\n",
       "    'accountType': 'UNIFIED',\n",
       "    'totalAvailableBalance': '969.94116599',\n",
       "    'accountMMRate': '0',\n",
       "    'totalPerpUPL': '0',\n",
       "    'totalWalletBalance': '969.94116599',\n",
       "    'accountLTV': '0',\n",
       "    'totalMaintenanceMargin': '0',\n",
       "    'coin': [{'availableToBorrow': '',\n",
       "      'bonus': '0',\n",
       "      'accruedInterest': '0',\n",
       "      'availableToWithdraw': '0.00000011',\n",
       "      'totalOrderIM': '0',\n",
       "      'equity': '0.00000011',\n",
       "      'totalPositionMM': '0',\n",
       "      'usdValue': '0.01072159',\n",
       "      'unrealisedPnl': '0',\n",
       "      'collateralSwitch': False,\n",
       "      'spotHedgingQty': '0',\n",
       "      'borrowAmount': '0.000000000000000000',\n",
       "      'totalPositionIM': '0',\n",
       "      'walletBalance': '0.00000011',\n",
       "      'cumRealisedPnl': '0',\n",
       "      'locked': '0',\n",
       "      'marginCollateral': True,\n",
       "      'coin': 'BTC'},\n",
       "     {'availableToBorrow': '',\n",
       "      'bonus': '0',\n",
       "      'accruedInterest': '0',\n",
       "      'availableToWithdraw': '18.5996',\n",
       "      'totalOrderIM': '0',\n",
       "      'equity': '18.5996',\n",
       "      'totalPositionMM': '0',\n",
       "      'usdValue': '19.94003597',\n",
       "      'unrealisedPnl': '0',\n",
       "      'collateralSwitch': False,\n",
       "      'spotHedgingQty': '0',\n",
       "      'borrowAmount': '0.000000000000000000',\n",
       "      'totalPositionIM': '0',\n",
       "      'walletBalance': '18.5996',\n",
       "      'cumRealisedPnl': '-0.0504',\n",
       "      'locked': '0',\n",
       "      'marginCollateral': True,\n",
       "      'coin': 'ADA'},\n",
       "     {'availableToBorrow': '',\n",
       "      'bonus': '0',\n",
       "      'accruedInterest': '0',\n",
       "      'availableToWithdraw': '969.27139946',\n",
       "      'totalOrderIM': '0',\n",
       "      'equity': '969.27139946',\n",
       "      'totalPositionMM': '0',\n",
       "      'usdValue': '969.94116599',\n",
       "      'unrealisedPnl': '0',\n",
       "      'collateralSwitch': True,\n",
       "      'spotHedgingQty': '0',\n",
       "      'borrowAmount': '0.000000000000000000',\n",
       "      'totalPositionIM': '0',\n",
       "      'walletBalance': '969.27139946',\n",
       "      'cumRealisedPnl': '-1.80192003',\n",
       "      'locked': '0',\n",
       "      'marginCollateral': True,\n",
       "      'coin': 'USDT'}]}]},\n",
       " 'retExtInfo': {},\n",
       " 'time': 1733076619949}"
      ]
     },
     "execution_count": 67,
     "metadata": {},
     "output_type": "execute_result"
    }
   ],
   "source": [
    "r"
   ]
  },
  {
   "cell_type": "code",
   "execution_count": 73,
   "id": "bf009c13-8a89-4f66-8827-d976e678d44a",
   "metadata": {},
   "outputs": [],
   "source": [
    "order = session.place_order(\n",
    "    category=\"linear\",\n",
    "    symbol=\"ADAUSDT\",\n",
    "    side=\"Buy\",\n",
    "    orderType=\"Market\",\n",
    "    # timeInForce=\"PostOnly\",\n",
    "    qty=\"12\",\n",
    "    takeProfit= \"1.091\",\n",
    "    stopLoss = '1.065', \n",
    "    isLeverage=0,\n",
    "    tpOrderType = 'Market',\n",
    "    slOrderType = 'Market',\n",
    "    tpslMode = 'Full'\n",
    "    # orderFilter=\"Order\",\n",
    ")\n",
    "\n",
    "# order_params = {\n",
    "#     'category': 'linear',\n",
    "#     'symbol': 'BTCUSDT',\n",
    "#     'side': 'Buy',\n",
    "#     'orderType': 'Market',\n",
    "#     'qty': '0.001',\n",
    "#     'timeInForce': 'GTC',\n",
    "#     'takeProfit': '60000',  # Установите желаемую цену тейк-профита\n",
    "#     'stopLoss': '55000',    # Установите желаемую цену стоп-лосса\n",
    "#     'tpOrderType': 'Market',\n",
    "#     'slOrderType': 'Market',\n",
    "#     'tpslMode': 'Full'\n",
    "# }\n",
    "# print(session.place_order(\n",
    "#     category=\"spot\",\n",
    "#     symbol=\"ADAUSDT\",\n",
    "#     side=\"Buy\",\n",
    "#     orderType=\"Limit\",\n",
    "#     qty=\"10\",\n",
    "#     price=\"1.0450\",\n",
    "#     timeInForce=\"StopOrder\",\n",
    "#     orderLinkId=\"spot-test-postonly\",\n",
    "#     isLeverage=0,\n",
    "#     orderFilter=\"Order\",\n",
    "# ))"
   ]
  },
  {
   "cell_type": "code",
   "execution_count": 74,
   "id": "12394125-0f96-4543-b730-bb70627f506b",
   "metadata": {},
   "outputs": [
    {
     "name": "stdout",
     "output_type": "stream",
     "text": [
      "{'retCode': 0, 'retMsg': 'OK', 'result': {'orderId': '26bd751f-3f08-489f-8716-6bf9ca012ebb', 'orderLinkId': ''}, 'retExtInfo': {}, 'time': 1733081032094}\n"
     ]
    }
   ],
   "source": [
    "print(order)"
   ]
  },
  {
   "cell_type": "code",
   "execution_count": 13,
   "id": "24cf8d94-6c7d-47af-8df0-562d7a13ed85",
   "metadata": {},
   "outputs": [
    {
     "name": "stdout",
     "output_type": "stream",
     "text": [
      "{'retCode': 0, 'retMsg': 'OK', 'result': {'orderId': '1831329744533330176', 'orderLinkId': 'spot-test-postonly'}, 'retExtInfo': {}, 'time': 1733047719544}\n"
     ]
    }
   ],
   "source": [
    "print(session.cancel_order(\n",
    "    category=\"spot\",\n",
    "    symbol=\"ADAUSDT\",\n",
    "    # orderId=\"1831329744533330176\",\n",
    "    orderLinkId ='spot-test-postonly'\n",
    "))"
   ]
  },
  {
   "cell_type": "code",
   "execution_count": null,
   "id": "d6b6634d-11e7-4064-9cdb-01af73644c2f",
   "metadata": {},
   "outputs": [],
   "source": [
    "print(session.cancel_all_orders(\n",
    "    category=\"spot\",\n",
    "    settleCoin=\"USDT\",\n",
    "))"
   ]
  },
  {
   "cell_type": "code",
   "execution_count": 6,
   "id": "0d95a0f2-e69e-485f-8090-cde99cf0d8ee",
   "metadata": {},
   "outputs": [
    {
     "name": "stdout",
     "output_type": "stream",
     "text": [
      "{'retCode': 0, 'retMsg': 'OK', 'result': {'nextPageCursor': '', 'category': 'inverse', 'list': [{'symbol': 'BTCUSD', 'leverage': '10', 'autoAddMargin': 0, 'avgPrice': '', 'liqPrice': '', 'riskLimitValue': '150', 'takeProfit': '', 'positionValue': '', 'tpslMode': '', 'isReduceOnly': False, 'riskId': 1, 'trailingStop': '', 'unrealisedPnl': '', 'markPrice': '', 'adlRankIndicator': 0, 'cumRealisedPnl': '', 'positionMM': '', 'createdTime': '', 'positionIdx': 0, 'positionIM': '', 'seq': -1, 'updatedTime': '', 'side': '', 'bustPrice': '', 'positionBalance': '', 'leverageSysUpdatedTime': '', 'curRealisedPnl': '', 'size': '0', 'positionStatus': '', 'mmrSysUpdatedTime': '', 'stopLoss': '', 'tradeMode': 0, 'sessionAvgPrice': ''}]}, 'retExtInfo': {}, 'time': 1733047311426}\n"
     ]
    }
   ],
   "source": [
    "print(session.get_positions(\n",
    "    category=\"inverse\",\n",
    "    symbol=\"BTCUSD\",\n",
    "))"
   ]
  },
  {
   "cell_type": "code",
   "execution_count": 69,
   "id": "d1633acb-3d32-4f91-9732-6a4b8882d93d",
   "metadata": {},
   "outputs": [],
   "source": [
    "from time import sleep"
   ]
  },
  {
   "cell_type": "code",
   "execution_count": 70,
   "id": "3577ca72-ddd6-4322-9c91-ab635b93a1ea",
   "metadata": {},
   "outputs": [],
   "source": [
    "from pybit.unified_trading import WebSocket"
   ]
  },
  {
   "cell_type": "code",
   "execution_count": 18,
   "id": "452c2261-eb9d-42c0-89c9-26a2a8df5c1d",
   "metadata": {},
   "outputs": [],
   "source": [
    "f_shape_pl = ['open', 'SMA', 'high', 'low', 'close', 'volume', 'rolling_mean_10', 'rolling_min_5', 'rolling_min_20', 'rolling_min_10', 'rolling_max_20', 'rolling_max_10']\n",
    "f_shape = ['close', 'SMA', 'rolling_mean_10', 'rolling_min_5', 'high', 'rolling_min_20', 'rolling_min_10', 'rolling_max_20', 'rolling_max_10', 'open' ]"
   ]
  },
  {
   "cell_type": "code",
   "execution_count": 71,
   "id": "0bfb895c-c8f5-48ad-ab69-dcd50cf77c6c",
   "metadata": {},
   "outputs": [],
   "source": [
    "def place_order(ticker, side, qty):\n",
    "    return session.place_order(\n",
    "    category=\"spot\",\n",
    "    symbol=ticker,\n",
    "    side=side,\n",
    "    orderType=\"Market\",\n",
    "    qty=qty,\n",
    "    isLeverage=0,\n",
    "    orderFilter=\"Order\",\n",
    "    )"
   ]
  },
  {
   "cell_type": "code",
   "execution_count": 57,
   "id": "f6073a43-ca27-433f-8f02-9dc48a0d0b2e",
   "metadata": {},
   "outputs": [],
   "source": [
    "order = place_order(\"ADAUSDT\", \"buy\", 11)"
   ]
  },
  {
   "cell_type": "code",
   "execution_count": 50,
   "id": "21cc7e74-bdbd-471a-a918-baa845f78dca",
   "metadata": {},
   "outputs": [
    {
     "data": {
      "text/plain": [
       "{'retCode': 0,\n",
       " 'retMsg': 'OK',\n",
       " 'result': {'orderId': '1831533759514810624',\n",
       "  'orderLinkId': '1831533759514810625'},\n",
       " 'retExtInfo': {},\n",
       " 'time': 1733071838261}"
      ]
     },
     "execution_count": 50,
     "metadata": {},
     "output_type": "execute_result"
    }
   ],
   "source": [
    "order"
   ]
  },
  {
   "cell_type": "code",
   "execution_count": null,
   "id": "e7d7b434-4f53-462a-9ad1-140276fe5bb0",
   "metadata": {},
   "outputs": [],
   "source": [
    "def place_order(ticker, side, qty):\n",
    "    return session.place_order(\n",
    "    category=\"spot\",\n",
    "    symbol=ticker,\n",
    "    side=side,\n",
    "    orderType=\"Market\",\n",
    "    qty=qty,\n",
    "    # price=\"1.0450\",\n",
    "    timeInForce=\"PostOnly\",\n",
    "    isLeverage=0,\n",
    "    orderFilter=\"Order\",\n",
    "    )"
   ]
  },
  {
   "cell_type": "code",
   "execution_count": 68,
   "id": "7d1f17c9-2a8a-4f16-911e-729d93359798",
   "metadata": {},
   "outputs": [
    {
     "ename": "InvalidRequestError",
     "evalue": "Illegal category (ErrCode: 10001) (ErrTime: 18:14:29).\nRequest → POST https://api.bybit.com/v5/position/trading-stop: {\"category\": \"spot\", \"symbol\": \"ADAUSDT\", \"takeProfit\": \"0.6\", \"stopLoss\": \"0.2\", \"tpTriggerBy\": \"MarkPrice\", \"slTriggerB\": \"IndexPrice\", \"tpslMode\": \"Partial\", \"tpOrderType\": \"Market\", \"slOrderType\": \"Market\", \"positionIdx\": 0}.",
     "output_type": "error",
     "traceback": [
      "\u001b[0;31m---------------------------------------------------------------------------\u001b[0m",
      "\u001b[0;31mInvalidRequestError\u001b[0m                       Traceback (most recent call last)",
      "Cell \u001b[0;32mIn[68], line 1\u001b[0m\n\u001b[0;32m----> 1\u001b[0m \u001b[43msession\u001b[49m\u001b[38;5;241;43m.\u001b[39;49m\u001b[43mset_trading_stop\u001b[49m\u001b[43m(\u001b[49m\n\u001b[1;32m      2\u001b[0m \u001b[43m    \u001b[49m\u001b[43mcategory\u001b[49m\u001b[38;5;241;43m=\u001b[39;49m\u001b[38;5;124;43m\"\u001b[39;49m\u001b[38;5;124;43mspot\u001b[39;49m\u001b[38;5;124;43m\"\u001b[39;49m\u001b[43m,\u001b[49m\n\u001b[1;32m      3\u001b[0m \u001b[43m    \u001b[49m\u001b[43msymbol\u001b[49m\u001b[38;5;241;43m=\u001b[39;49m\u001b[38;5;124;43m\"\u001b[39;49m\u001b[38;5;124;43mADAUSDT\u001b[39;49m\u001b[38;5;124;43m\"\u001b[39;49m\u001b[43m,\u001b[49m\n\u001b[1;32m      4\u001b[0m \u001b[43m    \u001b[49m\u001b[43mtakeProfit\u001b[49m\u001b[38;5;241;43m=\u001b[39;49m\u001b[38;5;124;43m\"\u001b[39;49m\u001b[38;5;124;43m0.6\u001b[39;49m\u001b[38;5;124;43m\"\u001b[39;49m\u001b[43m,\u001b[49m\n\u001b[1;32m      5\u001b[0m \u001b[43m    \u001b[49m\u001b[43mstopLoss\u001b[49m\u001b[38;5;241;43m=\u001b[39;49m\u001b[38;5;124;43m\"\u001b[39;49m\u001b[38;5;124;43m0.2\u001b[39;49m\u001b[38;5;124;43m\"\u001b[39;49m\u001b[43m,\u001b[49m\n\u001b[1;32m      6\u001b[0m \u001b[43m    \u001b[49m\u001b[43mtpTriggerBy\u001b[49m\u001b[38;5;241;43m=\u001b[39;49m\u001b[38;5;124;43m\"\u001b[39;49m\u001b[38;5;124;43mMarkPrice\u001b[39;49m\u001b[38;5;124;43m\"\u001b[39;49m\u001b[43m,\u001b[49m\n\u001b[1;32m      7\u001b[0m \u001b[43m    \u001b[49m\u001b[43mslTriggerB\u001b[49m\u001b[38;5;241;43m=\u001b[39;49m\u001b[38;5;124;43m\"\u001b[39;49m\u001b[38;5;124;43mIndexPrice\u001b[39;49m\u001b[38;5;124;43m\"\u001b[39;49m\u001b[43m,\u001b[49m\n\u001b[1;32m      8\u001b[0m \u001b[43m    \u001b[49m\u001b[43mtpslMode\u001b[49m\u001b[38;5;241;43m=\u001b[39;49m\u001b[38;5;124;43m\"\u001b[39;49m\u001b[38;5;124;43mPartial\u001b[39;49m\u001b[38;5;124;43m\"\u001b[39;49m\u001b[43m,\u001b[49m\n\u001b[1;32m      9\u001b[0m \u001b[43m    \u001b[49m\u001b[43mtpOrderType\u001b[49m\u001b[38;5;241;43m=\u001b[39;49m\u001b[38;5;124;43m\"\u001b[39;49m\u001b[38;5;124;43mMarket\u001b[39;49m\u001b[38;5;124;43m\"\u001b[39;49m\u001b[43m,\u001b[49m\n\u001b[1;32m     10\u001b[0m \u001b[43m    \u001b[49m\u001b[43mslOrderType\u001b[49m\u001b[38;5;241;43m=\u001b[39;49m\u001b[38;5;124;43m\"\u001b[39;49m\u001b[38;5;124;43mMarket\u001b[39;49m\u001b[38;5;124;43m\"\u001b[39;49m\u001b[43m,\u001b[49m\n\u001b[1;32m     11\u001b[0m \u001b[43m    \u001b[49m\u001b[38;5;66;43;03m# tpSize=\"50\",\u001b[39;49;00m\n\u001b[1;32m     12\u001b[0m \u001b[43m    \u001b[49m\u001b[38;5;66;43;03m# slSize=\"50\",\u001b[39;49;00m\n\u001b[1;32m     13\u001b[0m \u001b[43m    \u001b[49m\u001b[38;5;66;43;03m# tpLimitPrice=\"0.57\",\u001b[39;49;00m\n\u001b[1;32m     14\u001b[0m \u001b[43m    \u001b[49m\u001b[38;5;66;43;03m# slLimitPrice=\"0.21\",\u001b[39;49;00m\n\u001b[1;32m     15\u001b[0m \u001b[43m    \u001b[49m\u001b[43mpositionIdx\u001b[49m\u001b[38;5;241;43m=\u001b[39;49m\u001b[38;5;241;43m0\u001b[39;49m\u001b[43m,\u001b[49m\n\u001b[1;32m     16\u001b[0m \u001b[43m)\u001b[49m\n",
      "File \u001b[0;32m~/проекты/OTUS/Fin_RL/fin_proj/finRL/lib/python3.12/site-packages/pybit/_v5_position.py:176\u001b[0m, in \u001b[0;36mPositionHTTP.set_trading_stop\u001b[0;34m(self, **kwargs)\u001b[0m\n\u001b[1;32m    159\u001b[0m \u001b[38;5;28;01mdef\u001b[39;00m \u001b[38;5;21mset_trading_stop\u001b[39m(\u001b[38;5;28mself\u001b[39m, \u001b[38;5;241m*\u001b[39m\u001b[38;5;241m*\u001b[39mkwargs):\n\u001b[1;32m    160\u001b[0m \u001b[38;5;250m    \u001b[39m\u001b[38;5;124;03m\"\"\"Set the take profit, stop loss or trailing stop for the position.\u001b[39;00m\n\u001b[1;32m    161\u001b[0m \n\u001b[1;32m    162\u001b[0m \u001b[38;5;124;03m    Required args:\u001b[39;00m\n\u001b[0;32m   (...)\u001b[0m\n\u001b[1;32m    174\u001b[0m \u001b[38;5;124;03m        https://bybit-exchange.github.io/docs/v5/position/trading-stop\u001b[39;00m\n\u001b[1;32m    175\u001b[0m \u001b[38;5;124;03m    \"\"\"\u001b[39;00m\n\u001b[0;32m--> 176\u001b[0m     \u001b[38;5;28;01mreturn\u001b[39;00m \u001b[38;5;28;43mself\u001b[39;49m\u001b[38;5;241;43m.\u001b[39;49m\u001b[43m_submit_request\u001b[49m\u001b[43m(\u001b[49m\n\u001b[1;32m    177\u001b[0m \u001b[43m        \u001b[49m\u001b[43mmethod\u001b[49m\u001b[38;5;241;43m=\u001b[39;49m\u001b[38;5;124;43m\"\u001b[39;49m\u001b[38;5;124;43mPOST\u001b[39;49m\u001b[38;5;124;43m\"\u001b[39;49m\u001b[43m,\u001b[49m\n\u001b[1;32m    178\u001b[0m \u001b[43m        \u001b[49m\u001b[43mpath\u001b[49m\u001b[38;5;241;43m=\u001b[39;49m\u001b[38;5;124;43mf\u001b[39;49m\u001b[38;5;124;43m\"\u001b[39;49m\u001b[38;5;132;43;01m{\u001b[39;49;00m\u001b[38;5;28;43mself\u001b[39;49m\u001b[38;5;241;43m.\u001b[39;49m\u001b[43mendpoint\u001b[49m\u001b[38;5;132;43;01m}\u001b[39;49;00m\u001b[38;5;132;43;01m{\u001b[39;49;00m\u001b[43mPosition\u001b[49m\u001b[38;5;241;43m.\u001b[39;49m\u001b[43mSET_TRADING_STOP\u001b[49m\u001b[38;5;132;43;01m}\u001b[39;49;00m\u001b[38;5;124;43m\"\u001b[39;49m\u001b[43m,\u001b[49m\n\u001b[1;32m    179\u001b[0m \u001b[43m        \u001b[49m\u001b[43mquery\u001b[49m\u001b[38;5;241;43m=\u001b[39;49m\u001b[43mkwargs\u001b[49m\u001b[43m,\u001b[49m\n\u001b[1;32m    180\u001b[0m \u001b[43m        \u001b[49m\u001b[43mauth\u001b[49m\u001b[38;5;241;43m=\u001b[39;49m\u001b[38;5;28;43;01mTrue\u001b[39;49;00m\u001b[43m,\u001b[49m\n\u001b[1;32m    181\u001b[0m \u001b[43m    \u001b[49m\u001b[43m)\u001b[49m\n",
      "File \u001b[0;32m~/проекты/OTUS/Fin_RL/fin_proj/finRL/lib/python3.12/site-packages/pybit/_http_manager.py:379\u001b[0m, in \u001b[0;36m_V5HTTPManager._submit_request\u001b[0;34m(self, method, path, query, auth)\u001b[0m\n\u001b[1;32m    376\u001b[0m         \u001b[38;5;28;01mpass\u001b[39;00m\n\u001b[1;32m    378\u001b[0m     \u001b[38;5;28;01melse\u001b[39;00m:\n\u001b[0;32m--> 379\u001b[0m         \u001b[38;5;28;01mraise\u001b[39;00m InvalidRequestError(\n\u001b[1;32m    380\u001b[0m             request\u001b[38;5;241m=\u001b[39m\u001b[38;5;124mf\u001b[39m\u001b[38;5;124m\"\u001b[39m\u001b[38;5;132;01m{\u001b[39;00mmethod\u001b[38;5;132;01m}\u001b[39;00m\u001b[38;5;124m \u001b[39m\u001b[38;5;132;01m{\u001b[39;00mpath\u001b[38;5;132;01m}\u001b[39;00m\u001b[38;5;124m: \u001b[39m\u001b[38;5;132;01m{\u001b[39;00mreq_params\u001b[38;5;132;01m}\u001b[39;00m\u001b[38;5;124m\"\u001b[39m,\n\u001b[1;32m    381\u001b[0m             message\u001b[38;5;241m=\u001b[39ms_json[ret_msg],\n\u001b[1;32m    382\u001b[0m             status_code\u001b[38;5;241m=\u001b[39ms_json[ret_code],\n\u001b[1;32m    383\u001b[0m             time\u001b[38;5;241m=\u001b[39mdt\u001b[38;5;241m.\u001b[39mutcnow()\u001b[38;5;241m.\u001b[39mstrftime(\u001b[38;5;124m\"\u001b[39m\u001b[38;5;124m%\u001b[39m\u001b[38;5;124mH:\u001b[39m\u001b[38;5;124m%\u001b[39m\u001b[38;5;124mM:\u001b[39m\u001b[38;5;124m%\u001b[39m\u001b[38;5;124mS\u001b[39m\u001b[38;5;124m\"\u001b[39m),\n\u001b[1;32m    384\u001b[0m             resp_headers\u001b[38;5;241m=\u001b[39ms\u001b[38;5;241m.\u001b[39mheaders,\n\u001b[1;32m    385\u001b[0m         )\n\u001b[1;32m    386\u001b[0m \u001b[38;5;28;01melse\u001b[39;00m:\n\u001b[1;32m    387\u001b[0m     \u001b[38;5;28;01mif\u001b[39;00m \u001b[38;5;28mself\u001b[39m\u001b[38;5;241m.\u001b[39mlog_requests:\n",
      "\u001b[0;31mInvalidRequestError\u001b[0m: Illegal category (ErrCode: 10001) (ErrTime: 18:14:29).\nRequest → POST https://api.bybit.com/v5/position/trading-stop: {\"category\": \"spot\", \"symbol\": \"ADAUSDT\", \"takeProfit\": \"0.6\", \"stopLoss\": \"0.2\", \"tpTriggerBy\": \"MarkPrice\", \"slTriggerB\": \"IndexPrice\", \"tpslMode\": \"Partial\", \"tpOrderType\": \"Market\", \"slOrderType\": \"Market\", \"positionIdx\": 0}."
     ]
    }
   ],
   "source": [
    "session.set_trading_stop(\n",
    "    category=\"spot\",\n",
    "    symbol=\"ADAUSDT\",\n",
    "    takeProfit=\"0.6\",\n",
    "    stopLoss=\"0.2\",\n",
    "    tpTriggerBy=\"MarkPrice\",\n",
    "    slTriggerB=\"IndexPrice\",\n",
    "    tpslMode=\"Partial\",\n",
    "    tpOrderType=\"Market\",\n",
    "    slOrderType=\"Market\",\n",
    "    # tpSize=\"50\",\n",
    "    # slSize=\"50\",\n",
    "    # tpLimitPrice=\"0.57\",\n",
    "    # slLimitPrice=\"0.21\",\n",
    "    positionIdx=0,\n",
    ")"
   ]
  },
  {
   "cell_type": "code",
   "execution_count": null,
   "id": "424a3b75-2298-46f2-a8cc-2c6ce6fb80f3",
   "metadata": {},
   "outputs": [],
   "source": [
    "def make_prediction(df):\n",
    "\n",
    "    df_features = df.copy()\n",
    "\n",
    "    feature_engineer = Features(df_features)\n",
    "    df_features = feature_engineer.lag_rolling_features(lags=[1, 2, 3], windows=[5, 10, 20])\n",
    "    df_features = feature_engineer.fill(True, True)\n",
    "    df_features = df_features.dropna()\n",
    "    df_features = df_features[f_shape_pl]\n",
    "\n",
    "    predictions = loaded_model.predict(df_features)\n",
    "\n",
    "    return predictions[-1]"
   ]
  },
  {
   "cell_type": "code",
   "execution_count": 18,
   "id": "9f60489e-8bd9-4340-a344-79226d3851e2",
   "metadata": {},
   "outputs": [
    {
     "ename": "Exception",
     "evalue": "You have already subscribed to this topic: kline.5.ADAUSDT",
     "output_type": "error",
     "traceback": [
      "\u001b[0;31m---------------------------------------------------------------------------\u001b[0m",
      "\u001b[0;31mException\u001b[0m                                 Traceback (most recent call last)",
      "Cell \u001b[0;32mIn[18], line 33\u001b[0m\n\u001b[1;32m      2\u001b[0m     \u001b[38;5;28mprint\u001b[39m(message)\n\u001b[1;32m      4\u001b[0m     \u001b[38;5;66;03m# if message.get('data') and message['data'][0].get('confirm') == True:\u001b[39;00m\n\u001b[1;32m      5\u001b[0m     \u001b[38;5;66;03m#     try:\u001b[39;00m\n\u001b[1;32m      6\u001b[0m     \u001b[38;5;66;03m#         cols = ['datetime', 'open', 'high',\t'low', 'close',\t'volume']\u001b[39;00m\n\u001b[0;32m   (...)\u001b[0m\n\u001b[1;32m     30\u001b[0m     \u001b[38;5;66;03m#     except (TypeError, IndexError, AttributeError):\u001b[39;00m\n\u001b[1;32m     31\u001b[0m     \u001b[38;5;66;03m#         pass\u001b[39;00m\n\u001b[0;32m---> 33\u001b[0m \u001b[43mws\u001b[49m\u001b[38;5;241;43m.\u001b[39;49m\u001b[43mkline_stream\u001b[49m\u001b[43m(\u001b[49m\n\u001b[1;32m     34\u001b[0m \u001b[43m    \u001b[49m\u001b[43minterval\u001b[49m\u001b[38;5;241;43m=\u001b[39;49m\u001b[38;5;241;43m5\u001b[39;49m\u001b[43m,\u001b[49m\n\u001b[1;32m     35\u001b[0m \u001b[43m    \u001b[49m\u001b[43msymbol\u001b[49m\u001b[38;5;241;43m=\u001b[39;49m\u001b[38;5;124;43m\"\u001b[39;49m\u001b[38;5;124;43mADAUSDT\u001b[39;49m\u001b[38;5;124;43m\"\u001b[39;49m\u001b[43m,\u001b[49m\n\u001b[1;32m     36\u001b[0m \u001b[43m    \u001b[49m\u001b[43mcallback\u001b[49m\u001b[38;5;241;43m=\u001b[39;49m\u001b[43mhandle_message\u001b[49m\n\u001b[1;32m     37\u001b[0m \u001b[43m)\u001b[49m\n\u001b[1;32m     39\u001b[0m \u001b[38;5;28;01mwhile\u001b[39;00m \u001b[38;5;28;01mTrue\u001b[39;00m:\n\u001b[1;32m     40\u001b[0m     sleep(\u001b[38;5;241m30\u001b[39m)\n",
      "File \u001b[0;32m~/проекты/OTUS/Fin_RL/fin_proj/finRL/lib/python3.12/site-packages/pybit/unified_trading.py:234\u001b[0m, in \u001b[0;36mWebSocket.kline_stream\u001b[0;34m(self, interval, symbol, callback)\u001b[0m\n\u001b[1;32m    232\u001b[0m \u001b[38;5;28mself\u001b[39m\u001b[38;5;241m.\u001b[39m_validate_public_topic()\n\u001b[1;32m    233\u001b[0m topic \u001b[38;5;241m=\u001b[39m \u001b[38;5;124mf\u001b[39m\u001b[38;5;124m\"\u001b[39m\u001b[38;5;124mkline.\u001b[39m\u001b[38;5;132;01m{\u001b[39;00minterval\u001b[38;5;132;01m}\u001b[39;00m\u001b[38;5;124m.\u001b[39m\u001b[38;5;124m\"\u001b[39m \u001b[38;5;241m+\u001b[39m \u001b[38;5;124m\"\u001b[39m\u001b[38;5;132;01m{symbol}\u001b[39;00m\u001b[38;5;124m\"\u001b[39m\n\u001b[0;32m--> 234\u001b[0m \u001b[38;5;28;43mself\u001b[39;49m\u001b[38;5;241;43m.\u001b[39;49m\u001b[43msubscribe\u001b[49m\u001b[43m(\u001b[49m\u001b[43mtopic\u001b[49m\u001b[43m,\u001b[49m\u001b[43m \u001b[49m\u001b[43mcallback\u001b[49m\u001b[43m,\u001b[49m\u001b[43m \u001b[49m\u001b[43msymbol\u001b[49m\u001b[43m)\u001b[49m\n",
      "File \u001b[0;32m~/проекты/OTUS/Fin_RL/fin_proj/finRL/lib/python3.12/site-packages/pybit/_websocket_stream.py:339\u001b[0m, in \u001b[0;36m_V5WebSocketManager.subscribe\u001b[0;34m(self, topic, callback, symbol)\u001b[0m\n\u001b[1;32m    336\u001b[0m     symbol \u001b[38;5;241m=\u001b[39m [symbol]\n\u001b[1;32m    338\u001b[0m subscription_args \u001b[38;5;241m=\u001b[39m prepare_subscription_args(symbol)\n\u001b[0;32m--> 339\u001b[0m \u001b[38;5;28;43mself\u001b[39;49m\u001b[38;5;241;43m.\u001b[39;49m\u001b[43m_check_callback_directory\u001b[49m\u001b[43m(\u001b[49m\u001b[43msubscription_args\u001b[49m\u001b[43m)\u001b[49m\n\u001b[1;32m    341\u001b[0m req_id \u001b[38;5;241m=\u001b[39m \u001b[38;5;28mstr\u001b[39m(uuid4())\n\u001b[1;32m    343\u001b[0m subscription_message \u001b[38;5;241m=\u001b[39m json\u001b[38;5;241m.\u001b[39mdumps(\n\u001b[1;32m    344\u001b[0m     {\u001b[38;5;124m\"\u001b[39m\u001b[38;5;124mop\u001b[39m\u001b[38;5;124m\"\u001b[39m: \u001b[38;5;124m\"\u001b[39m\u001b[38;5;124msubscribe\u001b[39m\u001b[38;5;124m\"\u001b[39m, \u001b[38;5;124m\"\u001b[39m\u001b[38;5;124mreq_id\u001b[39m\u001b[38;5;124m\"\u001b[39m: req_id, \u001b[38;5;124m\"\u001b[39m\u001b[38;5;124margs\u001b[39m\u001b[38;5;124m\"\u001b[39m: subscription_args}\n\u001b[1;32m    345\u001b[0m )\n",
      "File \u001b[0;32m~/проекты/OTUS/Fin_RL/fin_proj/finRL/lib/python3.12/site-packages/pybit/_websocket_stream.py:492\u001b[0m, in \u001b[0;36m_V5WebSocketManager._check_callback_directory\u001b[0;34m(self, topics)\u001b[0m\n\u001b[1;32m    490\u001b[0m \u001b[38;5;28;01mfor\u001b[39;00m topic \u001b[38;5;129;01min\u001b[39;00m topics:\n\u001b[1;32m    491\u001b[0m     \u001b[38;5;28;01mif\u001b[39;00m topic \u001b[38;5;129;01min\u001b[39;00m \u001b[38;5;28mself\u001b[39m\u001b[38;5;241m.\u001b[39mcallback_directory:\n\u001b[0;32m--> 492\u001b[0m         \u001b[38;5;28;01mraise\u001b[39;00m \u001b[38;5;167;01mException\u001b[39;00m(\n\u001b[1;32m    493\u001b[0m             \u001b[38;5;124mf\u001b[39m\u001b[38;5;124m\"\u001b[39m\u001b[38;5;124mYou have already subscribed to this topic: \u001b[39m\u001b[38;5;124m\"\u001b[39m \u001b[38;5;124mf\u001b[39m\u001b[38;5;124m\"\u001b[39m\u001b[38;5;132;01m{\u001b[39;00mtopic\u001b[38;5;132;01m}\u001b[39;00m\u001b[38;5;124m\"\u001b[39m\n\u001b[1;32m    494\u001b[0m         )\n",
      "\u001b[0;31mException\u001b[0m: You have already subscribed to this topic: kline.5.ADAUSDT"
     ]
    }
   ],
   "source": [
    "ticker = \"ADAUSDT\"\n",
    "side = \"buy\"\n",
    "qty = 10\n",
    "\n",
    "\n",
    "\n",
    "    def handle_message(message):\n",
    "        \n",
    "        if message.get('data') and message['data'][0].get('confirm') == True:\n",
    "            try:\n",
    "                cols = ['datetime', 'open', 'high',\t'low', 'close',\t'volume']\n",
    "                datetime = message['data'][0]['start']\n",
    "                openn = message['data'][0]['open']\n",
    "                high = message['data'][0]['high']\n",
    "                low = message['data'][0]['low']\n",
    "                close = message['data'][0]['close']\n",
    "                volume = message['data'][0]['volume']\n",
    "                try:        \n",
    "                    ndf = pd.DataFrame([[datetime, openn, high, low, close, volume]], columns=cols)\n",
    "                except (TypeError, IndexError, AttributeError):\n",
    "                    pass\n",
    "                try:\n",
    "                    ndf['datetime'] = pd.to_datetime(ndf['datetime'], unit='ms')\n",
    "                    ndf.set_index('datetime', inplace=True)\n",
    "                    for col in ndf.columns:\n",
    "                        ndf[col] =  pd.to_numeric(ndf[col])\n",
    "                    combined_df = pd.concat([combined_df, ndf]) # подклеил новые данные и отправил предсказывать\n",
    "                    predictions = make_prediction(combined_df[-100:])\n",
    "    \n",
    "                    if combined_df['close'][-1] < combined_df['sma_long'][-1]:\n",
    "                        if (combined_df['close'][0] > combined_df['close'][-1]) & (predictions > combined_df['close'][0]):\n",
    "                            order = place_order(ticker, side, qty)\n",
    "                            logging.info(f\"BUY!!! {order}\")\n",
    "                    pred.append(predictions)\n",
    "                    real.append(close)\n",
    "                    logging.info(f\"Predict price {predictions}\")\n",
    "                except (TypeError, IndexError, AttributeError):\n",
    "                    pass\n",
    "                \n",
    "            except (TypeError, IndexError, AttributeError):\n",
    "                pass\n",
    "\n",
    "ws_spot = WebSocket(testnet=False, channel_type=\"spot\")\n",
    "\n",
    "ws_spot.kline_stream(\n",
    "    interval=5,\n",
    "    symbol=\"ADAUSDT\",\n",
    "    callback=handle_message\n",
    ")\n",
    "\n",
    "while True:\n",
    "    sleep(30)"
   ]
  },
  {
   "cell_type": "code",
   "execution_count": 6,
   "id": "2744c3d6-2d61-439d-8841-0ee2a87b351c",
   "metadata": {},
   "outputs": [],
   "source": [
    "import pandas as pd\n",
    "import numpy as np\n",
    "from time import sleep\n",
    "from datetime import datetime, timedelta\n",
    "import warnings\n",
    "# from sklearn.ensemble import IsolationForest\n",
    "import boto3\n",
    "import argparse\n",
    "import logging\n",
    "import os\n",
    "import gc\n",
    "from pybit.unified_trading import HTTP\n",
    "from feature_engineering import Features\n",
    "from pybit.unified_trading import WebSocket\n",
    "from sklearn.linear_model import LinearRegression\n",
    "import pickle"
   ]
  },
  {
   "cell_type": "code",
   "execution_count": 11,
   "id": "6ca22814-b3a8-4e4d-bac1-19f89831186b",
   "metadata": {},
   "outputs": [],
   "source": [
    "bucket_name = 'otus-fin'\n",
    "endpoint_url = 'https://storage.yandexcloud.net'\n",
    "yc_access_key = os.getenv('YC_ACCESS_KEY')\n",
    "yc_secret_key = os.getenv('YC_SECRET_KEY')"
   ]
  },
  {
   "cell_type": "code",
   "execution_count": 12,
   "id": "33783fa1-7abd-423a-91da-5b3c502b28b6",
   "metadata": {},
   "outputs": [],
   "source": [
    "with open('linear_regression_model2.pkl', 'rb') as file:\n",
    "    loaded_model = pickle.load(file)\n",
    "\n",
    "session_boto = boto3.session.Session()\n",
    "s3_client = session_boto.client(\n",
    "service_name='s3',\n",
    "endpoint_url=endpoint_url,\n",
    "aws_access_key_id=yc_access_key,\n",
    "aws_secret_access_key=yc_secret_key,\n",
    ")\n",
    "\n",
    "result = s3_client.list_objects_v2(Bucket=bucket_name, Prefix='data/train/ADAUSDT/')\n",
    "parquet_files = [obj['Key'] for obj in result.get('Contents', []) if obj['Key'].endswith('.parquet')]\n",
    "\n",
    "dfs = []\n",
    "\n",
    "for pf in parquet_files:\n",
    "    df = pd.read_parquet(\n",
    "                f's3://otus-fin/{pf}',\n",
    "                engine='pyarrow',\n",
    "                storage_options={\n",
    "                    'key': yc_access_key,\n",
    "                    'secret': yc_secret_key,\n",
    "                    'client_kwargs': {'endpoint_url': endpoint_url}\n",
    "                }\n",
    "            )\n",
    "    dfs.append(df)\n",
    "    \n",
    "combined_df = pd.concat(dfs).drop_duplicates()"
   ]
  },
  {
   "cell_type": "code",
   "execution_count": 13,
   "id": "be6c49e6-cf8e-4ec5-9b69-b74a7ce0d5f5",
   "metadata": {},
   "outputs": [
    {
     "data": {
      "text/html": [
       "<div>\n",
       "<style scoped>\n",
       "    .dataframe tbody tr th:only-of-type {\n",
       "        vertical-align: middle;\n",
       "    }\n",
       "\n",
       "    .dataframe tbody tr th {\n",
       "        vertical-align: top;\n",
       "    }\n",
       "\n",
       "    .dataframe thead th {\n",
       "        text-align: right;\n",
       "    }\n",
       "</style>\n",
       "<table border=\"1\" class=\"dataframe\">\n",
       "  <thead>\n",
       "    <tr style=\"text-align: right;\">\n",
       "      <th></th>\n",
       "      <th>open</th>\n",
       "      <th>high</th>\n",
       "      <th>low</th>\n",
       "      <th>close</th>\n",
       "      <th>volume</th>\n",
       "    </tr>\n",
       "    <tr>\n",
       "      <th>datetime</th>\n",
       "      <th></th>\n",
       "      <th></th>\n",
       "      <th></th>\n",
       "      <th></th>\n",
       "      <th></th>\n",
       "    </tr>\n",
       "  </thead>\n",
       "  <tbody>\n",
       "    <tr>\n",
       "      <th>2021-08-01 00:00:00</th>\n",
       "      <td>1.3193</td>\n",
       "      <td>1.3196</td>\n",
       "      <td>1.3114</td>\n",
       "      <td>1.3149</td>\n",
       "      <td>304283.0</td>\n",
       "    </tr>\n",
       "    <tr>\n",
       "      <th>2021-08-01 00:05:00</th>\n",
       "      <td>1.3149</td>\n",
       "      <td>1.3192</td>\n",
       "      <td>1.3149</td>\n",
       "      <td>1.3174</td>\n",
       "      <td>80684.0</td>\n",
       "    </tr>\n",
       "    <tr>\n",
       "      <th>2021-08-01 00:10:00</th>\n",
       "      <td>1.3174</td>\n",
       "      <td>1.3203</td>\n",
       "      <td>1.3138</td>\n",
       "      <td>1.3156</td>\n",
       "      <td>86340.0</td>\n",
       "    </tr>\n",
       "    <tr>\n",
       "      <th>2021-08-01 00:15:00</th>\n",
       "      <td>1.3156</td>\n",
       "      <td>1.3222</td>\n",
       "      <td>1.3149</td>\n",
       "      <td>1.3222</td>\n",
       "      <td>35944.0</td>\n",
       "    </tr>\n",
       "    <tr>\n",
       "      <th>2021-08-01 00:20:00</th>\n",
       "      <td>1.3222</td>\n",
       "      <td>1.3273</td>\n",
       "      <td>1.3222</td>\n",
       "      <td>1.3270</td>\n",
       "      <td>48829.0</td>\n",
       "    </tr>\n",
       "    <tr>\n",
       "      <th>...</th>\n",
       "      <td>...</td>\n",
       "      <td>...</td>\n",
       "      <td>...</td>\n",
       "      <td>...</td>\n",
       "      <td>...</td>\n",
       "    </tr>\n",
       "    <tr>\n",
       "      <th>2024-12-01 13:55:00</th>\n",
       "      <td>1.0696</td>\n",
       "      <td>1.0702</td>\n",
       "      <td>1.0662</td>\n",
       "      <td>1.0672</td>\n",
       "      <td>365961.0</td>\n",
       "    </tr>\n",
       "    <tr>\n",
       "      <th>2024-12-01 14:00:00</th>\n",
       "      <td>1.0672</td>\n",
       "      <td>1.0674</td>\n",
       "      <td>1.0645</td>\n",
       "      <td>1.0665</td>\n",
       "      <td>936962.0</td>\n",
       "    </tr>\n",
       "    <tr>\n",
       "      <th>2024-12-01 14:05:00</th>\n",
       "      <td>1.0665</td>\n",
       "      <td>1.0698</td>\n",
       "      <td>1.0650</td>\n",
       "      <td>1.0694</td>\n",
       "      <td>636083.0</td>\n",
       "    </tr>\n",
       "    <tr>\n",
       "      <th>2024-12-01 14:10:00</th>\n",
       "      <td>1.0694</td>\n",
       "      <td>1.0697</td>\n",
       "      <td>1.0674</td>\n",
       "      <td>1.0680</td>\n",
       "      <td>253662.0</td>\n",
       "    </tr>\n",
       "    <tr>\n",
       "      <th>2024-12-01 14:15:00</th>\n",
       "      <td>1.0680</td>\n",
       "      <td>1.0680</td>\n",
       "      <td>1.0669</td>\n",
       "      <td>1.0669</td>\n",
       "      <td>24204.0</td>\n",
       "    </tr>\n",
       "  </tbody>\n",
       "</table>\n",
       "<p>350949 rows × 5 columns</p>\n",
       "</div>"
      ],
      "text/plain": [
       "                       open    high     low   close    volume\n",
       "datetime                                                     \n",
       "2021-08-01 00:00:00  1.3193  1.3196  1.3114  1.3149  304283.0\n",
       "2021-08-01 00:05:00  1.3149  1.3192  1.3149  1.3174   80684.0\n",
       "2021-08-01 00:10:00  1.3174  1.3203  1.3138  1.3156   86340.0\n",
       "2021-08-01 00:15:00  1.3156  1.3222  1.3149  1.3222   35944.0\n",
       "2021-08-01 00:20:00  1.3222  1.3273  1.3222  1.3270   48829.0\n",
       "...                     ...     ...     ...     ...       ...\n",
       "2024-12-01 13:55:00  1.0696  1.0702  1.0662  1.0672  365961.0\n",
       "2024-12-01 14:00:00  1.0672  1.0674  1.0645  1.0665  936962.0\n",
       "2024-12-01 14:05:00  1.0665  1.0698  1.0650  1.0694  636083.0\n",
       "2024-12-01 14:10:00  1.0694  1.0697  1.0674  1.0680  253662.0\n",
       "2024-12-01 14:15:00  1.0680  1.0680  1.0669  1.0669   24204.0\n",
       "\n",
       "[350949 rows x 5 columns]"
      ]
     },
     "execution_count": 13,
     "metadata": {},
     "output_type": "execute_result"
    }
   ],
   "source": [
    "combined_df"
   ]
  },
  {
   "cell_type": "code",
   "execution_count": 14,
   "id": "94a80c4a-72bb-45ec-8d9d-0d2b675a7682",
   "metadata": {},
   "outputs": [],
   "source": [
    "\n",
    "\n",
    "df_features = combined_df.copy()\n",
    "\n",
    "feature_engineer = Features(df_features)\n",
    "df_features = feature_engineer.momentum_features(window=95)\n",
    "df_features = feature_engineer.lag_rolling_features(lags=[1, 2, 3], windows=[5, 10, 20])\n",
    "df_features = feature_engineer.fill(True, True)\n",
    "df_features = df_features.dropna()\n",
    "# df_features = feature_engineer.price_based_features()\n",
    "# df_features = feature_engineer.volume_based_features()\n",
    "# df_features = feature_engineer.volatility_features(window=15)\n",
    "# df_features = feature_engineer.trend_features(window=14)\n",
    "# df_features = feature_engineer.lag_rolling_features(lags=[1, 2, 3], windows=[5, 10, 20])\n",
    "# df_features = feature_engineer.statistical_features(window=20)\n",
    "# df_features = feature_engineer.time_based_features()\n",
    "# df_features = feature_engineer.fill(True, True)\n",
    "\n",
    "# df_features = df_features.drop(columns=['support_line', 'resistance_line', 'tenkan_sen', 'kijun_sen', 'senkou_span_a', 'senkou_span_b'])\n",
    "\n",
    "\n"
   ]
  },
  {
   "cell_type": "code",
   "execution_count": 23,
   "id": "c806166f-4d27-4ffb-a199-ce1821ba4e8b",
   "metadata": {},
   "outputs": [
    {
     "data": {
      "text/html": [
       "<div>\n",
       "<style scoped>\n",
       "    .dataframe tbody tr th:only-of-type {\n",
       "        vertical-align: middle;\n",
       "    }\n",
       "\n",
       "    .dataframe tbody tr th {\n",
       "        vertical-align: top;\n",
       "    }\n",
       "\n",
       "    .dataframe thead th {\n",
       "        text-align: right;\n",
       "    }\n",
       "</style>\n",
       "<table border=\"1\" class=\"dataframe\">\n",
       "  <thead>\n",
       "    <tr style=\"text-align: right;\">\n",
       "      <th></th>\n",
       "      <th>close</th>\n",
       "      <th>SMA</th>\n",
       "      <th>rolling_mean_10</th>\n",
       "      <th>rolling_min_5</th>\n",
       "      <th>high</th>\n",
       "      <th>rolling_min_20</th>\n",
       "      <th>rolling_min_10</th>\n",
       "      <th>rolling_max_20</th>\n",
       "      <th>rolling_max_10</th>\n",
       "      <th>open</th>\n",
       "    </tr>\n",
       "    <tr>\n",
       "      <th>datetime</th>\n",
       "      <th></th>\n",
       "      <th></th>\n",
       "      <th></th>\n",
       "      <th></th>\n",
       "      <th></th>\n",
       "      <th></th>\n",
       "      <th></th>\n",
       "      <th></th>\n",
       "      <th></th>\n",
       "      <th></th>\n",
       "    </tr>\n",
       "  </thead>\n",
       "  <tbody>\n",
       "    <tr>\n",
       "      <th>2024-12-01 13:05:00</th>\n",
       "      <td>1.0665</td>\n",
       "      <td>1.063222</td>\n",
       "      <td>1.06535</td>\n",
       "      <td>1.0615</td>\n",
       "      <td>1.0670</td>\n",
       "      <td>1.0615</td>\n",
       "      <td>1.0615</td>\n",
       "      <td>1.0730</td>\n",
       "      <td>1.0695</td>\n",
       "      <td>1.0627</td>\n",
       "    </tr>\n",
       "    <tr>\n",
       "      <th>2024-12-01 13:10:00</th>\n",
       "      <td>1.0673</td>\n",
       "      <td>1.063328</td>\n",
       "      <td>1.06513</td>\n",
       "      <td>1.0615</td>\n",
       "      <td>1.0679</td>\n",
       "      <td>1.0615</td>\n",
       "      <td>1.0615</td>\n",
       "      <td>1.0730</td>\n",
       "      <td>1.0673</td>\n",
       "      <td>1.0665</td>\n",
       "    </tr>\n",
       "    <tr>\n",
       "      <th>2024-12-01 13:15:00</th>\n",
       "      <td>1.0695</td>\n",
       "      <td>1.063482</td>\n",
       "      <td>1.06550</td>\n",
       "      <td>1.0615</td>\n",
       "      <td>1.0715</td>\n",
       "      <td>1.0615</td>\n",
       "      <td>1.0615</td>\n",
       "      <td>1.0730</td>\n",
       "      <td>1.0695</td>\n",
       "      <td>1.0673</td>\n",
       "    </tr>\n",
       "    <tr>\n",
       "      <th>2024-12-01 13:20:00</th>\n",
       "      <td>1.0712</td>\n",
       "      <td>1.063661</td>\n",
       "      <td>1.06589</td>\n",
       "      <td>1.0627</td>\n",
       "      <td>1.0727</td>\n",
       "      <td>1.0615</td>\n",
       "      <td>1.0615</td>\n",
       "      <td>1.0730</td>\n",
       "      <td>1.0712</td>\n",
       "      <td>1.0695</td>\n",
       "    </tr>\n",
       "    <tr>\n",
       "      <th>2024-12-01 13:25:00</th>\n",
       "      <td>1.0703</td>\n",
       "      <td>1.063838</td>\n",
       "      <td>1.06627</td>\n",
       "      <td>1.0665</td>\n",
       "      <td>1.0721</td>\n",
       "      <td>1.0615</td>\n",
       "      <td>1.0615</td>\n",
       "      <td>1.0730</td>\n",
       "      <td>1.0712</td>\n",
       "      <td>1.0712</td>\n",
       "    </tr>\n",
       "    <tr>\n",
       "      <th>2024-12-01 13:30:00</th>\n",
       "      <td>1.0698</td>\n",
       "      <td>1.064042</td>\n",
       "      <td>1.06654</td>\n",
       "      <td>1.0673</td>\n",
       "      <td>1.0709</td>\n",
       "      <td>1.0615</td>\n",
       "      <td>1.0615</td>\n",
       "      <td>1.0730</td>\n",
       "      <td>1.0712</td>\n",
       "      <td>1.0703</td>\n",
       "    </tr>\n",
       "    <tr>\n",
       "      <th>2024-12-01 13:35:00</th>\n",
       "      <td>1.0705</td>\n",
       "      <td>1.064223</td>\n",
       "      <td>1.06715</td>\n",
       "      <td>1.0695</td>\n",
       "      <td>1.0715</td>\n",
       "      <td>1.0615</td>\n",
       "      <td>1.0615</td>\n",
       "      <td>1.0730</td>\n",
       "      <td>1.0712</td>\n",
       "      <td>1.0698</td>\n",
       "    </tr>\n",
       "    <tr>\n",
       "      <th>2024-12-01 13:40:00</th>\n",
       "      <td>1.0677</td>\n",
       "      <td>1.064417</td>\n",
       "      <td>1.06770</td>\n",
       "      <td>1.0677</td>\n",
       "      <td>1.0710</td>\n",
       "      <td>1.0615</td>\n",
       "      <td>1.0615</td>\n",
       "      <td>1.0730</td>\n",
       "      <td>1.0712</td>\n",
       "      <td>1.0705</td>\n",
       "    </tr>\n",
       "    <tr>\n",
       "      <th>2024-12-01 13:45:00</th>\n",
       "      <td>1.0674</td>\n",
       "      <td>1.064623</td>\n",
       "      <td>1.06829</td>\n",
       "      <td>1.0674</td>\n",
       "      <td>1.0685</td>\n",
       "      <td>1.0615</td>\n",
       "      <td>1.0627</td>\n",
       "      <td>1.0725</td>\n",
       "      <td>1.0712</td>\n",
       "      <td>1.0677</td>\n",
       "    </tr>\n",
       "    <tr>\n",
       "      <th>2024-12-01 13:50:00</th>\n",
       "      <td>1.0696</td>\n",
       "      <td>1.064883</td>\n",
       "      <td>1.06898</td>\n",
       "      <td>1.0674</td>\n",
       "      <td>1.0699</td>\n",
       "      <td>1.0615</td>\n",
       "      <td>1.0665</td>\n",
       "      <td>1.0712</td>\n",
       "      <td>1.0712</td>\n",
       "      <td>1.0674</td>\n",
       "    </tr>\n",
       "    <tr>\n",
       "      <th>2024-12-01 13:55:00</th>\n",
       "      <td>1.0672</td>\n",
       "      <td>1.065063</td>\n",
       "      <td>1.06905</td>\n",
       "      <td>1.0672</td>\n",
       "      <td>1.0702</td>\n",
       "      <td>1.0615</td>\n",
       "      <td>1.0672</td>\n",
       "      <td>1.0712</td>\n",
       "      <td>1.0712</td>\n",
       "      <td>1.0696</td>\n",
       "    </tr>\n",
       "    <tr>\n",
       "      <th>2024-12-01 14:00:00</th>\n",
       "      <td>1.0665</td>\n",
       "      <td>1.065233</td>\n",
       "      <td>1.06897</td>\n",
       "      <td>1.0665</td>\n",
       "      <td>1.0674</td>\n",
       "      <td>1.0615</td>\n",
       "      <td>1.0665</td>\n",
       "      <td>1.0712</td>\n",
       "      <td>1.0712</td>\n",
       "      <td>1.0672</td>\n",
       "    </tr>\n",
       "    <tr>\n",
       "      <th>2024-12-01 14:05:00</th>\n",
       "      <td>1.0694</td>\n",
       "      <td>1.065430</td>\n",
       "      <td>1.06896</td>\n",
       "      <td>1.0665</td>\n",
       "      <td>1.0698</td>\n",
       "      <td>1.0615</td>\n",
       "      <td>1.0665</td>\n",
       "      <td>1.0712</td>\n",
       "      <td>1.0712</td>\n",
       "      <td>1.0665</td>\n",
       "    </tr>\n",
       "    <tr>\n",
       "      <th>2024-12-01 14:10:00</th>\n",
       "      <td>1.0680</td>\n",
       "      <td>1.065618</td>\n",
       "      <td>1.06864</td>\n",
       "      <td>1.0665</td>\n",
       "      <td>1.0697</td>\n",
       "      <td>1.0615</td>\n",
       "      <td>1.0665</td>\n",
       "      <td>1.0712</td>\n",
       "      <td>1.0705</td>\n",
       "      <td>1.0694</td>\n",
       "    </tr>\n",
       "    <tr>\n",
       "      <th>2024-12-01 14:15:00</th>\n",
       "      <td>1.0669</td>\n",
       "      <td>1.065787</td>\n",
       "      <td>1.06830</td>\n",
       "      <td>1.0665</td>\n",
       "      <td>1.0680</td>\n",
       "      <td>1.0615</td>\n",
       "      <td>1.0665</td>\n",
       "      <td>1.0712</td>\n",
       "      <td>1.0705</td>\n",
       "      <td>1.0680</td>\n",
       "    </tr>\n",
       "  </tbody>\n",
       "</table>\n",
       "</div>"
      ],
      "text/plain": [
       "                      close       SMA  rolling_mean_10  rolling_min_5    high  \\\n",
       "datetime                                                                        \n",
       "2024-12-01 13:05:00  1.0665  1.063222          1.06535         1.0615  1.0670   \n",
       "2024-12-01 13:10:00  1.0673  1.063328          1.06513         1.0615  1.0679   \n",
       "2024-12-01 13:15:00  1.0695  1.063482          1.06550         1.0615  1.0715   \n",
       "2024-12-01 13:20:00  1.0712  1.063661          1.06589         1.0627  1.0727   \n",
       "2024-12-01 13:25:00  1.0703  1.063838          1.06627         1.0665  1.0721   \n",
       "2024-12-01 13:30:00  1.0698  1.064042          1.06654         1.0673  1.0709   \n",
       "2024-12-01 13:35:00  1.0705  1.064223          1.06715         1.0695  1.0715   \n",
       "2024-12-01 13:40:00  1.0677  1.064417          1.06770         1.0677  1.0710   \n",
       "2024-12-01 13:45:00  1.0674  1.064623          1.06829         1.0674  1.0685   \n",
       "2024-12-01 13:50:00  1.0696  1.064883          1.06898         1.0674  1.0699   \n",
       "2024-12-01 13:55:00  1.0672  1.065063          1.06905         1.0672  1.0702   \n",
       "2024-12-01 14:00:00  1.0665  1.065233          1.06897         1.0665  1.0674   \n",
       "2024-12-01 14:05:00  1.0694  1.065430          1.06896         1.0665  1.0698   \n",
       "2024-12-01 14:10:00  1.0680  1.065618          1.06864         1.0665  1.0697   \n",
       "2024-12-01 14:15:00  1.0669  1.065787          1.06830         1.0665  1.0680   \n",
       "\n",
       "                     rolling_min_20  rolling_min_10  rolling_max_20  \\\n",
       "datetime                                                              \n",
       "2024-12-01 13:05:00          1.0615          1.0615          1.0730   \n",
       "2024-12-01 13:10:00          1.0615          1.0615          1.0730   \n",
       "2024-12-01 13:15:00          1.0615          1.0615          1.0730   \n",
       "2024-12-01 13:20:00          1.0615          1.0615          1.0730   \n",
       "2024-12-01 13:25:00          1.0615          1.0615          1.0730   \n",
       "2024-12-01 13:30:00          1.0615          1.0615          1.0730   \n",
       "2024-12-01 13:35:00          1.0615          1.0615          1.0730   \n",
       "2024-12-01 13:40:00          1.0615          1.0615          1.0730   \n",
       "2024-12-01 13:45:00          1.0615          1.0627          1.0725   \n",
       "2024-12-01 13:50:00          1.0615          1.0665          1.0712   \n",
       "2024-12-01 13:55:00          1.0615          1.0672          1.0712   \n",
       "2024-12-01 14:00:00          1.0615          1.0665          1.0712   \n",
       "2024-12-01 14:05:00          1.0615          1.0665          1.0712   \n",
       "2024-12-01 14:10:00          1.0615          1.0665          1.0712   \n",
       "2024-12-01 14:15:00          1.0615          1.0665          1.0712   \n",
       "\n",
       "                     rolling_max_10    open  \n",
       "datetime                                     \n",
       "2024-12-01 13:05:00          1.0695  1.0627  \n",
       "2024-12-01 13:10:00          1.0673  1.0665  \n",
       "2024-12-01 13:15:00          1.0695  1.0673  \n",
       "2024-12-01 13:20:00          1.0712  1.0695  \n",
       "2024-12-01 13:25:00          1.0712  1.0712  \n",
       "2024-12-01 13:30:00          1.0712  1.0703  \n",
       "2024-12-01 13:35:00          1.0712  1.0698  \n",
       "2024-12-01 13:40:00          1.0712  1.0705  \n",
       "2024-12-01 13:45:00          1.0712  1.0677  \n",
       "2024-12-01 13:50:00          1.0712  1.0674  \n",
       "2024-12-01 13:55:00          1.0712  1.0696  \n",
       "2024-12-01 14:00:00          1.0712  1.0672  \n",
       "2024-12-01 14:05:00          1.0712  1.0665  \n",
       "2024-12-01 14:10:00          1.0705  1.0694  \n",
       "2024-12-01 14:15:00          1.0705  1.0680  "
      ]
     },
     "execution_count": 23,
     "metadata": {},
     "output_type": "execute_result"
    }
   ],
   "source": [
    "df_features[f_shape].tail(15)"
   ]
  },
  {
   "cell_type": "code",
   "execution_count": 37,
   "id": "dd647885-9426-45a4-86e2-c4b406ae4ca2",
   "metadata": {},
   "outputs": [
    {
     "data": {
      "text/plain": [
       "(1.068, 1.0656179)"
      ]
     },
     "execution_count": 37,
     "metadata": {},
     "output_type": "execute_result"
    }
   ],
   "source": [
    "df_features['close'].iloc[-2], df_features['SMA'].iloc[-2]"
   ]
  },
  {
   "cell_type": "code",
   "execution_count": 38,
   "id": "d009b302-8bbf-4823-a4d0-3e0a15f814f3",
   "metadata": {},
   "outputs": [
    {
     "data": {
      "text/plain": [
       "(1.0669, 1.068)"
      ]
     },
     "execution_count": 38,
     "metadata": {},
     "output_type": "execute_result"
    }
   ],
   "source": [
    "df_features['close'].iloc[-1], df_features['close'].iloc[-2]"
   ]
  },
  {
   "cell_type": "code",
   "execution_count": 39,
   "id": "20479e95-cfae-4a76-8727-31603e49470a",
   "metadata": {},
   "outputs": [
    {
     "data": {
      "text/plain": [
       "(1.0668089, 1.0669)"
      ]
     },
     "execution_count": 39,
     "metadata": {},
     "output_type": "execute_result"
    }
   ],
   "source": [
    "predictions[-1], df_features['close'].iloc[-1]"
   ]
  },
  {
   "cell_type": "code",
   "execution_count": 20,
   "id": "5e6f0722-fb11-4bbd-8657-24ed868ca6d5",
   "metadata": {},
   "outputs": [],
   "source": [
    "predictions = loaded_model.predict(df_features[f_shape])"
   ]
  },
  {
   "cell_type": "code",
   "execution_count": 32,
   "id": "c3fc1ebe-0192-40bd-a529-472b722a5dbf",
   "metadata": {},
   "outputs": [
    {
     "data": {
      "text/plain": [
       "1.0668089"
      ]
     },
     "execution_count": 32,
     "metadata": {},
     "output_type": "execute_result"
    }
   ],
   "source": [
    "predictions[-1]"
   ]
  },
  {
   "cell_type": "code",
   "execution_count": 22,
   "id": "8c2a0c5d-c4d7-4cd6-9e7c-ca1206ecb9f2",
   "metadata": {},
   "outputs": [
    {
     "name": "stderr",
     "output_type": "stream",
     "text": [
      "/tmp/ipykernel_15623/2669739936.py:1: FutureWarning: Series.__getitem__ treating keys as positions is deprecated. In a future version, integer keys will always be treated as labels (consistent with DataFrame behavior). To access a value by position, use `ser.iloc[pos]`\n",
      "  df_features['close'][-1]\n"
     ]
    },
    {
     "data": {
      "text/plain": [
       "1.0669"
      ]
     },
     "execution_count": 22,
     "metadata": {},
     "output_type": "execute_result"
    }
   ],
   "source": [
    "df_features['close'][-1]"
   ]
  },
  {
   "cell_type": "code",
   "execution_count": null,
   "id": "c260b31f-4046-4cf9-aeba-a9831cfb1c64",
   "metadata": {},
   "outputs": [],
   "source": []
  }
 ],
 "metadata": {
  "kernelspec": {
   "display_name": "Python 3 (ipykernel)",
   "language": "python",
   "name": "python3"
  },
  "language_info": {
   "codemirror_mode": {
    "name": "ipython",
    "version": 3
   },
   "file_extension": ".py",
   "mimetype": "text/x-python",
   "name": "python",
   "nbconvert_exporter": "python",
   "pygments_lexer": "ipython3",
   "version": "3.12.5"
  }
 },
 "nbformat": 4,
 "nbformat_minor": 5
}
